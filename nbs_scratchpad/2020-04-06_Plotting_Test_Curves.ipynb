{
 "cells": [
  {
   "cell_type": "code",
   "execution_count": 1,
   "metadata": {},
   "outputs": [],
   "source": [
    "# !pip install altair_viewer"
   ]
  },
  {
   "cell_type": "markdown",
   "metadata": {},
   "source": [
    "## Covid in India: Possible Scenario\n",
    "Projected actual and detected cases on a log scale. Testing capacity starts at 1000 tests, rapidly increased over a period of time before maxing out at 100,000 tests. Based on the ICMR testing protocol, most tests are reserved for those with symptoms but some (e.g. private labs) are available on demand. "
   ]
  },
  {
   "cell_type": "code",
   "execution_count": 2,
   "metadata": {},
   "outputs": [],
   "source": [
    "import altair as alt\n",
    "import pandas as pd\n",
    "from dateutil.parser import parse"
   ]
  },
  {
   "cell_type": "code",
   "execution_count": 3,
   "metadata": {},
   "outputs": [],
   "source": [
    "detected = [\n",
    "    0,\n",
    "    0,\n",
    "    0,\n",
    "    5,\n",
    "    11,\n",
    "    19,\n",
    "    31,\n",
    "    48,\n",
    "    76,\n",
    "    137,\n",
    "    296,\n",
    "    764,\n",
    "    2153,\n",
    "    4963,\n",
    "    10298,\n",
    "    19660,\n",
    "    34819,\n",
    "    57705,\n",
    "    90443,\n",
    "    135468,\n",
    "    195589,\n",
    "    265205,\n",
    "    333128,\n",
    "    397183,\n",
    "    454692,\n",
    "    502757,\n",
    "    539265,\n",
    "    564176,\n",
    "    579624,\n",
    "    588601,\n",
    "    593674,\n",
    "    596572,\n",
    "    598308,\n",
    "    599440,\n",
    "    600261,\n",
    "    600924,\n",
    "    601507,\n",
    "]"
   ]
  },
  {
   "cell_type": "code",
   "execution_count": 4,
   "metadata": {},
   "outputs": [],
   "source": [
    "actual = [\n",
    "    3,\n",
    "    13,\n",
    "    45,\n",
    "    147,\n",
    "    473,\n",
    "    1516,\n",
    "    4853,\n",
    "    15530,\n",
    "    44347,\n",
    "    122071,\n",
    "    331322,\n",
    "    705400,\n",
    "    1369398,\n",
    "    2533207,\n",
    "    4528267,\n",
    "    7820144,\n",
    "    12917856,\n",
    "    20064142,\n",
    "    28748371,\n",
    "    37555999,\n",
    "    44908712,\n",
    "    50063228,\n",
    "    53232297,\n",
    "    55021583,\n",
    "    55982701,\n",
    "    56485037,\n",
    "    56743817,\n",
    "    56876132,\n",
    "    56943526,\n",
    "    56977785,\n",
    "    56995183,\n",
    "    57004014,\n",
    "    57008495,\n",
    "    57010769,\n",
    "    57011923,\n",
    "    57012508,\n",
    "    57012805,\n",
    "]"
   ]
  },
  {
   "cell_type": "code",
   "execution_count": 5,
   "metadata": {},
   "outputs": [
    {
     "data": {
      "text/plain": [
       "True"
      ]
     },
     "execution_count": 5,
     "metadata": {},
     "output_type": "execute_result"
    }
   ],
   "source": [
    "len(actual) == len(detected)"
   ]
  },
  {
   "cell_type": "code",
   "execution_count": 6,
   "metadata": {},
   "outputs": [],
   "source": [
    "dates = [\n",
    "    \"Feb. 1\",\n",
    "    \"Feb. 6\",\n",
    "    \"Feb. 11\",\n",
    "    \"Feb. 16\",\n",
    "    \"Feb. 21\",\n",
    "    \"Feb. 26\",\n",
    "    \"Mar. 2\",\n",
    "    \"Mar. 7\",\n",
    "    \"Mar. 12\",\n",
    "    \"Mar. 17\",\n",
    "    \"Mar. 22\",\n",
    "    \"Mar. 27\",\n",
    "    \"Apr. 1\",\n",
    "    \"Apr. 6\",\n",
    "    \"Apr. 11\",\n",
    "    \"Apr. 16\",\n",
    "    \"Apr. 21\",\n",
    "    \"Apr. 26\",\n",
    "    \"May. 1\",\n",
    "    \"May. 6\",\n",
    "    \"May. 11\",\n",
    "    \"May. 16\",\n",
    "    \"May. 21\",\n",
    "    \"May. 26\",\n",
    "    \"May. 31\",\n",
    "    \"Jun. 5\",\n",
    "    \"Jun. 10\",\n",
    "    \"Jun. 15\",\n",
    "    \"Jun. 20\",\n",
    "    \"Jun. 25\",\n",
    "    \"Jun. 30\",\n",
    "    \"Jul. 5\",\n",
    "    \"Jul. 10\",\n",
    "    \"Jul. 15\",\n",
    "    \"Jul. 20\",\n",
    "    \"Jul. 25\",\n",
    "    \"Jul. 30\",\n",
    "]"
   ]
  },
  {
   "cell_type": "code",
   "execution_count": 7,
   "metadata": {},
   "outputs": [],
   "source": [
    "dates = [parse(x) for x in dates]"
   ]
  },
  {
   "cell_type": "code",
   "execution_count": 8,
   "metadata": {},
   "outputs": [],
   "source": [
    "assert(len(dates) == len(detected) == len(actual))"
   ]
  },
  {
   "cell_type": "code",
   "execution_count": 9,
   "metadata": {},
   "outputs": [],
   "source": [
    "df = pd.DataFrame({\"Detected\": detected, \"Date\": dates, \"Actual\": actual})\n",
    "df.set_index('Date', inplace=True)"
   ]
  },
  {
   "cell_type": "code",
   "execution_count": 10,
   "metadata": {},
   "outputs": [
    {
     "data": {
      "text/plain": [
       "<matplotlib.axes._subplots.AxesSubplot at 0x11603fa30>"
      ]
     },
     "execution_count": 10,
     "metadata": {},
     "output_type": "execute_result"
    },
    {
     "data": {
      "image/png": "[encoded data removed]",
      "text/plain": [
       "<Figure size 432x288 with 1 Axes>"
      ]
     },
     "metadata": {
      "needs_background": "light"
     },
     "output_type": "display_data"
    }
   ],
   "source": [
    "df.plot(logy=True)"
   ]
  }
 ],
 "metadata": {
  "kernelspec": {
   "display_name": "Python 3",
   "language": "python",
   "name": "python3"
  },
  "language_info": {
   "codemirror_mode": {
    "name": "ipython",
    "version": 3
   },
   "file_extension": ".py",
   "mimetype": "text/x-python",
   "name": "python",
   "nbconvert_exporter": "python",
   "pygments_lexer": "ipython3",
   "version": "3.8.2"
  }
 },
 "nbformat": 4,
 "nbformat_minor": 4
}
