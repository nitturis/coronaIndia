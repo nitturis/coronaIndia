{
 "cells": [
  {
   "cell_type": "code",
   "execution_count": 1,
   "metadata": {},
   "outputs": [],
   "source": [
    "import json\n",
    "import random\n",
    "from pathlib import Path\n",
    "\n",
    "# !pip install camelot\n",
    "# import camelot\n",
    "\n",
    "# !pip install lxml\n",
    "import pandas as pd\n",
    "\n",
    "%load_ext autoreload\n",
    "%autoreload 2\n",
    "Path.ls = lambda x: list(x.iterdir())"
   ]
  },
  {
   "cell_type": "code",
   "execution_count": 2,
   "metadata": {},
   "outputs": [],
   "source": [
    "covid19india_mirror_url = \"https://api.steinhq.com/v1/storages/5e737e60b88d3d04ae0815b8/Sheet1\"\n",
    "ka_url = \"https://api.steinhq.com/v1/storages/5e7c53b3b88d3d04ae0815f0/KAPatientTravelHistory\""
   ]
  },
  {
   "cell_type": "code",
   "execution_count": 3,
   "metadata": {},
   "outputs": [],
   "source": [
    "df = pd.read_json(ka_url)\n",
    "df.columns = [c.strip() for c in df.columns] # remove newline, space etc noise"
   ]
  },
  {
   "cell_type": "markdown",
   "metadata": {},
   "source": [
    "## Location Verification"
   ]
  },
  {
   "cell_type": "code",
   "execution_count": 6,
   "metadata": {},
   "outputs": [],
   "source": [
    "def maps_link_parser(link: str):\n",
    "    if link is None:\n",
    "        return [None, None, None]\n",
    "    if link.strip().upper() == \"UNKNOWN\":\n",
    "        return [None, None, None]\n",
    "    split_link = link.split(\"/\")\n",
    "#     print(split_link)\n",
    "    name_place = split_link[5].replace(\"+\", \" \")\n",
    "    try:\n",
    "        lat, long, _ = split_link[6].replace(\"@\", \"\").split(\",\")\n",
    "    except:\n",
    "        return [\"ParsingError\", \"ParsingError\", \"ParsingError\"]\n",
    "    return [name_place, lat, long]\n",
    "\n",
    "place_name, place_lat, place_long = maps_link_parser(df[\"GoogleMapsLink\"][2])"
   ]
  },
  {
   "cell_type": "code",
   "execution_count": 7,
   "metadata": {
    "scrolled": false
   },
   "outputs": [],
   "source": [
    "new_df = df[\"GoogleMapsLink\"].apply(maps_link_parser)"
   ]
  },
  {
   "cell_type": "code",
   "execution_count": 8,
   "metadata": {},
   "outputs": [],
   "source": [
    "new_df = pd.DataFrame(new_df.tolist(), columns=[\"PlaceName\", \"Latitude\", \"Longitude\"])"
   ]
  },
  {
   "cell_type": "code",
   "execution_count": 9,
   "metadata": {},
   "outputs": [
    {
     "data": {
      "text/html": [
       "<div>\n",
       "<style scoped>\n",
       "    .dataframe tbody tr th:only-of-type {\n",
       "        vertical-align: middle;\n",
       "    }\n",
       "\n",
       "    .dataframe tbody tr th {\n",
       "        vertical-align: top;\n",
       "    }\n",
       "\n",
       "    .dataframe thead th {\n",
       "        text-align: right;\n",
       "    }\n",
       "</style>\n",
       "<table border=\"1\" class=\"dataframe\">\n",
       "  <thead>\n",
       "    <tr style=\"text-align: right;\">\n",
       "      <th></th>\n",
       "      <th>PlaceName</th>\n",
       "      <th>Latitude</th>\n",
       "      <th>Longitude</th>\n",
       "    </tr>\n",
       "  </thead>\n",
       "  <tbody>\n",
       "    <tr>\n",
       "      <th>0</th>\n",
       "      <td>Austin-Bergstrom International Airport</td>\n",
       "      <td>30.1974711</td>\n",
       "      <td>-97.6663529</td>\n",
       "    </tr>\n",
       "    <tr>\n",
       "      <th>1</th>\n",
       "      <td>John F. Kennedy International Airport</td>\n",
       "      <td>40.6413151</td>\n",
       "      <td>-73.7803278</td>\n",
       "    </tr>\n",
       "    <tr>\n",
       "      <th>2</th>\n",
       "      <td>Dubai International Airport</td>\n",
       "      <td>25.2531793</td>\n",
       "      <td>55.3634841</td>\n",
       "    </tr>\n",
       "    <tr>\n",
       "      <th>3</th>\n",
       "      <td>Kempegowda International Airport Bengaluru</td>\n",
       "      <td>13.19864</td>\n",
       "      <td>77.7044041</td>\n",
       "    </tr>\n",
       "    <tr>\n",
       "      <th>4</th>\n",
       "      <td>Whitefield, Bengaluru, Karnataka</td>\n",
       "      <td>12.9646087</td>\n",
       "      <td>77.7190231</td>\n",
       "    </tr>\n",
       "    <tr>\n",
       "      <th>...</th>\n",
       "      <td>...</td>\n",
       "      <td>...</td>\n",
       "      <td>...</td>\n",
       "    </tr>\n",
       "    <tr>\n",
       "      <th>134</th>\n",
       "      <td>Thanisandra, Bengaluru, Karnataka</td>\n",
       "      <td>13.0582033</td>\n",
       "      <td>77.6159807</td>\n",
       "    </tr>\n",
       "    <tr>\n",
       "      <th>135</th>\n",
       "      <td>Thanisandra, Bengaluru, Karnataka</td>\n",
       "      <td>13.0582033</td>\n",
       "      <td>77.6159807</td>\n",
       "    </tr>\n",
       "    <tr>\n",
       "      <th>136</th>\n",
       "      <td>Rahmath Nagar, RT Nagar, Bengaluru, Karnataka ...</td>\n",
       "      <td>13.0186044</td>\n",
       "      <td>77.5920903</td>\n",
       "    </tr>\n",
       "    <tr>\n",
       "      <th>137</th>\n",
       "      <td>ESI Hospital</td>\n",
       "      <td>12.9711854</td>\n",
       "      <td>77.6347212</td>\n",
       "    </tr>\n",
       "    <tr>\n",
       "      <th>138</th>\n",
       "      <td>Jayanagar General Hospital</td>\n",
       "      <td>12.9262377</td>\n",
       "      <td>77.5906121</td>\n",
       "    </tr>\n",
       "  </tbody>\n",
       "</table>\n",
       "<p>139 rows × 3 columns</p>\n",
       "</div>"
      ],
      "text/plain": [
       "                                             PlaceName    Latitude  \\\n",
       "0               Austin-Bergstrom International Airport  30.1974711   \n",
       "1                John F. Kennedy International Airport  40.6413151   \n",
       "2                          Dubai International Airport  25.2531793   \n",
       "3           Kempegowda International Airport Bengaluru    13.19864   \n",
       "4                     Whitefield, Bengaluru, Karnataka  12.9646087   \n",
       "..                                                 ...         ...   \n",
       "134                  Thanisandra, Bengaluru, Karnataka  13.0582033   \n",
       "135                  Thanisandra, Bengaluru, Karnataka  13.0582033   \n",
       "136  Rahmath Nagar, RT Nagar, Bengaluru, Karnataka ...  13.0186044   \n",
       "137                                       ESI Hospital  12.9711854   \n",
       "138                         Jayanagar General Hospital  12.9262377   \n",
       "\n",
       "       Longitude  \n",
       "0    -97.6663529  \n",
       "1    -73.7803278  \n",
       "2     55.3634841  \n",
       "3     77.7044041  \n",
       "4     77.7190231  \n",
       "..           ...  \n",
       "134   77.6159807  \n",
       "135   77.6159807  \n",
       "136   77.5920903  \n",
       "137   77.6347212  \n",
       "138   77.5906121  \n",
       "\n",
       "[139 rows x 3 columns]"
      ]
     },
     "execution_count": 9,
     "metadata": {},
     "output_type": "execute_result"
    }
   ],
   "source": [
    "new_df"
   ]
  },
  {
   "cell_type": "code",
   "execution_count": 10,
   "metadata": {},
   "outputs": [],
   "source": [
    "df[\"PlaceName\"] = new_df[\"PlaceName\"]\n",
    "df[\"Lat\"] = new_df.Latitude\n",
    "df[\"Long\"] = new_df.Longitude"
   ]
  },
  {
   "cell_type": "markdown",
   "metadata": {},
   "source": [
    "## DateTime Parsing"
   ]
  },
  {
   "cell_type": "code",
   "execution_count": 11,
   "metadata": {},
   "outputs": [],
   "source": [
    "from dateutil.parser import parse\n",
    "from datetime import datetime\n",
    "def insert(source_str, insert_str, pos):\n",
    "    return source_str[:pos]+insert_str+source_str[pos:]\n",
    "\n",
    "def parse_date_time(date_time_str:str)->datetime:\n",
    "    if date_time_str is None:\n",
    "        return None\n",
    "#     print(date_time_str)\n",
    "    split_str = date_time_str.split()\n",
    "    if len(split_str) == 1:\n",
    "        return parse(date_time_str)\n",
    "    date_str = split_str[0]\n",
    "    time_str = insert(split_str[1], \":\", 2)\n",
    "    return parse(date_str + \" \" + time_str)\n",
    "    \n",
    "# sample_date_time = df[\"From\"][11]\n",
    "# sample_date_time, parse_date_time(sample_date_time)"
   ]
  },
  {
   "cell_type": "code",
   "execution_count": 12,
   "metadata": {
    "scrolled": false
   },
   "outputs": [],
   "source": [
    "df[\"To\"] = df[\"To\"].apply(parse_date_time)\n",
    "df[\"From\"] = df[\"From\"].apply(parse_date_time)"
   ]
  },
  {
   "cell_type": "code",
   "execution_count": 16,
   "metadata": {},
   "outputs": [],
   "source": [
    "fname = ka_url.split(\"/\")[-1]\n",
    "df.to_csv(f\"{fname}.csv\", index=False)"
   ]
  }
 ],
 "metadata": {
  "kernelspec": {
   "display_name": "Python 3",
   "language": "python",
   "name": "python3"
  },
  "language_info": {
   "codemirror_mode": {
    "name": "ipython",
    "version": 3
   },
   "file_extension": ".py",
   "mimetype": "text/x-python",
   "name": "python",
   "nbconvert_exporter": "python",
   "pygments_lexer": "ipython3",
   "version": "3.7.5"
  }
 },
 "nbformat": 4,
 "nbformat_minor": 2
}
