{
 "cells": [
  {
   "cell_type": "code",
   "execution_count": 1,
   "metadata": {},
   "outputs": [],
   "source": [
    "import json\n",
    "import random\n",
    "from pathlib import Path\n",
    "\n",
    "import pandas as pd\n",
    "import pdfplumber\n",
    "\n",
    "%load_ext autoreload\n",
    "%autoreload 2\n",
    "Path.ls = lambda x: list(x.iterdir())\n",
    "# from urllib.parse import quote_plus"
   ]
  },
  {
   "cell_type": "code",
   "execution_count": 2,
   "metadata": {},
   "outputs": [],
   "source": [
    "filepath = Path(\"Timetable_Karnataka.pdf\").resolve()"
   ]
  },
  {
   "cell_type": "code",
   "execution_count": 3,
   "metadata": {
    "scrolled": false
   },
   "outputs": [],
   "source": [
    "pagewise_df = []\n",
    "with pdfplumber.open(filepath) as pdf:\n",
    "    for page in pdf.pages[:]:\n",
    "        page_df = page.extract_tables(\n",
    "            {\n",
    "                #                     \"vertical_strategy\": \"lines\",\n",
    "                #                     \"horizontal_strategy\": \"lines\",\n",
    "                #                     \"keep_blank_chars\": True,\n",
    "                #                     \"min_words_horizontal\": 6,\n",
    "                #                     \"text_tolerance\":15\n",
    "            }\n",
    "        )\n",
    "        pagewise_df.append(page_df)"
   ]
  },
  {
   "cell_type": "code",
   "execution_count": 4,
   "metadata": {
    "scrolled": false
   },
   "outputs": [],
   "source": [
    "# pagewise_df = pagewise_df[0]\n",
    "t0 = [x[0] for x in pagewise_df]\n",
    "flatten = lambda l: [item for sublist in l for item in sublist]\n",
    "df = pd.DataFrame(flatten(t0)[1:], columns=flatten(t0)[0])"
   ]
  },
  {
   "cell_type": "code",
   "execution_count": 5,
   "metadata": {},
   "outputs": [],
   "source": [
    "df.to_csv(\"KSRTCBusTimetable.csv\", index=False)"
   ]
  }
 ],
 "metadata": {
  "kernelspec": {
   "display_name": "Python 3",
   "language": "python",
   "name": "python3"
  },
  "language_info": {
   "codemirror_mode": {
    "name": "ipython",
    "version": 3
   },
   "file_extension": ".py",
   "mimetype": "text/x-python",
   "name": "python",
   "nbconvert_exporter": "python",
   "pygments_lexer": "ipython3",
   "version": "3.7.5"
  }
 },
 "nbformat": 4,
 "nbformat_minor": 2
}
