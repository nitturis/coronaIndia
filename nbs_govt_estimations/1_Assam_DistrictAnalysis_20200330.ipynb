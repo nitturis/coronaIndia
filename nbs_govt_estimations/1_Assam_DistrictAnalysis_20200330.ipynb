{
 "cells": [
  {
   "cell_type": "code",
   "execution_count": 1,
   "metadata": {},
   "outputs": [],
   "source": [
    "import json\n",
    "import random\n",
    "from pathlib import Path\n",
    "\n",
    "import pandas as pd\n",
    "\n",
    "%load_ext autoreload\n",
    "%autoreload 2\n",
    "Path.ls = lambda x: list(x.iterdir())"
   ]
  },
  {
   "cell_type": "code",
   "execution_count": 2,
   "metadata": {},
   "outputs": [],
   "source": [
    "# !pip install --upgrade xlrd"
   ]
  },
  {
   "cell_type": "code",
   "execution_count": 3,
   "metadata": {},
   "outputs": [],
   "source": [
    "assam_travel_history = Path(\"AssamTravelHistory.xlsx\").resolve()\n",
    "# pd.read_excel(\"AssamTravelHistory.xlsx\", sheet_name=10)\n",
    "xl = pd.ExcelFile(assam_travel_history)"
   ]
  },
  {
   "cell_type": "code",
   "execution_count": 4,
   "metadata": {},
   "outputs": [],
   "source": [
    "def read_assam_excel_to_df(filename:str)->pd.DataFrame:\n",
    "    xl = pd.ExcelFile(filename)\n",
    "    df_list = []\n",
    "    for sheet_name in xl.sheet_names:\n",
    "        district_df = xl.parse(sheet_name)\n",
    "        district_df[\"District\"] = sheet_name\n",
    "        district_df.drop(columns=[\"S.No.\"], inplace=True)\n",
    "        df_list.append(district_df)\n",
    "    return pd.concat(df_list, sort=False)\n",
    "\n",
    "df = read_assam_excel_to_df(assam_travel_history)"
   ]
  },
  {
   "cell_type": "code",
   "execution_count": 5,
   "metadata": {},
   "outputs": [],
   "source": [
    "df[\"DateOfArrival\"] = pd.to_datetime(df[\"Date of arrival\"])\n",
    "df[\"DateOfReturn\"] = pd.to_datetime(df[\"Date of Receipt\"])\n",
    "df.drop(columns=[\"Date of arrival\", \"Date of Receipt\"], inplace=True)"
   ]
  },
  {
   "cell_type": "code",
   "execution_count": 6,
   "metadata": {},
   "outputs": [],
   "source": [
    "# len(df)"
   ]
  },
  {
   "cell_type": "code",
   "execution_count": 7,
   "metadata": {},
   "outputs": [],
   "source": [
    "df_copy = df\n",
    "df_copy[\"Inflow\"] = 1\n",
    "assam_traveller_count_df = df_copy.groupby(\"District\").agg({\"Inflow\": \"sum\"})\n",
    "assam_traveller_count_df.reset_index(inplace=True)"
   ]
  },
  {
   "cell_type": "code",
   "execution_count": 8,
   "metadata": {},
   "outputs": [],
   "source": [
    "def clean_district_names(dname: str):\n",
    "    input_to_output_mapping = {\n",
    "        \"Cacher\": \"Cachar\",\n",
    "        \"Kamrup_M\": \"Kamrup Metropolitan\",\n",
    "        \"Kamrup_R\": \"Kamrup\",\n",
    "        \"KarbiAnlong\": \"Karbi Anglong\",\n",
    "        \"Baksha\": \"Baksa\",\n",
    "    }\n",
    "    return input_to_output_mapping.get(dname, dname)"
   ]
  },
  {
   "cell_type": "code",
   "execution_count": 9,
   "metadata": {},
   "outputs": [],
   "source": [
    "assam_traveller_count_df[\"District\"] = assam_traveller_count_df.District.apply(clean_district_names)"
   ]
  },
  {
   "cell_type": "code",
   "execution_count": 10,
   "metadata": {
    "scrolled": false
   },
   "outputs": [],
   "source": [
    "assam_pop_web_raw = pd.read_html(\"https://www.census2011.co.in/census/state/districtlist/assam.html\")\n",
    "assam_pop_web_raw = assam_pop_web_raw[0][[\"District\", \"Population\"]]\n",
    "assam_pop_df = assam_pop_web_raw[~(assam_pop_web_raw[\"District\"].apply(lambda x: len(x)) > 21)]\n",
    "# assam_pop_df"
   ]
  },
  {
   "cell_type": "code",
   "execution_count": 11,
   "metadata": {},
   "outputs": [],
   "source": [
    "assam_df = pd.merge(assam_pop_df, assam_traveller_count_df, on=\"District\", how=\"left\")"
   ]
  },
  {
   "cell_type": "markdown",
   "metadata": {},
   "source": [
    "# Running SIERS Plus for Assam\n",
    "## Challenge: Assam has zero cases right now"
   ]
  },
  {
   "cell_type": "code",
   "execution_count": 12,
   "metadata": {},
   "outputs": [],
   "source": [
    "# !pip install seirsplus\n",
    "# from https://github.com/ryansmcgee/seirsplus"
   ]
  },
  {
   "cell_type": "code",
   "execution_count": 13,
   "metadata": {},
   "outputs": [],
   "source": [
    "import contextlib\n",
    "import io\n",
    "import sys\n",
    "\n",
    "@contextlib.contextmanager\n",
    "def nostdout():\n",
    "    save_stdout = sys.stdout\n",
    "    sys.stdout = io.BytesIO()\n",
    "    yield\n",
    "    sys.stdout = save_stdout"
   ]
  },
  {
   "cell_type": "code",
   "execution_count": 14,
   "metadata": {},
   "outputs": [],
   "source": [
    "from seirsplus.models import *\n",
    "import networkx"
   ]
  },
  {
   "cell_type": "code",
   "execution_count": 15,
   "metadata": {},
   "outputs": [],
   "source": [
    "from typing import List\n",
    "\n",
    "\n",
    "def get_infections(\n",
    "    initI: int = 100, initN: int = 10 ** 5, days_N: int = 21, beta: float = 2.4\n",
    ") -> List[int]:\n",
    "    model = SEIRSModel(\n",
    "        beta=beta,\n",
    "        sigma=1 / 5.2,\n",
    "        gamma=1 / 12.39,\n",
    "        initN=initN,\n",
    "        initI=initI,\n",
    "        beta_D=0.000,\n",
    "        mu_D=0.02,\n",
    "        #         sigma_D=1 / 4.0,\n",
    "        #         gamma_D=1 / 9.0,\n",
    "        theta_E=0.0002,\n",
    "        theta_I=0.002,\n",
    "        psi_E=0.2,\n",
    "        psi_I=1.0,\n",
    "    )\n",
    "    model.run(T=days_N)\n",
    "    S = model.numS  # time series of S counts\n",
    "    E = model.numE  # time series of E counts\n",
    "    I = model.numI  # time series of I counts\n",
    "    D_E = model.numD_E  # time series of D_E counts\n",
    "    D_I = model.numD_I  # time series of D_I counts\n",
    "    R = model.numR  # time series of R counts\n",
    "    F = model.numF  # time series of F counts\n",
    "    t = model.tseries  # time values corresponding to the above time series\n",
    "    return {\"detected_exposed\": D_E, \"detected_infected\": D_I, \"model\": model, \"t\": t}"
   ]
  },
  {
   "cell_type": "code",
   "execution_count": 16,
   "metadata": {},
   "outputs": [],
   "source": [
    "# model = get_infections()[\"model\"]\n",
    "# ?model.figure_infections\n",
    "# model.figure_infections(\n",
    "#     plot_percentages=False,\n",
    "#     plot_D_E=False,\n",
    "#     title=\"Worst Case Scenario\",\n",
    "#     plot_E=False,\n",
    "#     plot_I=False,\n",
    "#     color_D_I='tab:red'\n",
    "# )\n",
    "from typing import Union"
   ]
  },
  {
   "cell_type": "code",
   "execution_count": 17,
   "metadata": {},
   "outputs": [],
   "source": [
    "percent_travellers_infected = 10 ** -3\n",
    "unknown_to_known_travelers = 10\n",
    "\n",
    "assam_estimated_df = assam_df\n",
    "assam_estimated_df[\"initI\"] = (\n",
    "    percent_travellers_infected * unknown_to_known_travelers * assam_df[\"Inflow\"]\n",
    ")\n",
    "assam_estimated_df[\"initI\"] = assam_estimated_df[\"initI\"].astype(int)\n",
    "assam_estimated_df[\"initN\"] = assam_estimated_df[\"Population\"].astype(int)"
   ]
  },
  {
   "cell_type": "code",
   "execution_count": 18,
   "metadata": {
    "scrolled": true
   },
   "outputs": [],
   "source": [
    "def get_risk_estimates(\n",
    "    assam_estimated_df: pd.DataFrame, scenario: str = \"best_case\"\n",
    ") -> Union[List, List]:\n",
    "    days_N = 21\n",
    "    atrisk_day14, atrisk_day21 = [], []\n",
    "    if scenario == \"best_case\":\n",
    "        beta = 1.8\n",
    "    elif scenario == \"realistic\":\n",
    "        beta = 2.7\n",
    "    elif scenario == \"worst_case\":\n",
    "        beta = 4.0\n",
    "    for row in assam_estimated_df[[\"initI\", \"initN\", \"District\"]].iterrows():\n",
    "        initI, initN, district = row[1][0], int(row[1][1]), row[1][2]\n",
    "        #     print(type(initI), type(initN))\n",
    "        infection_results = get_infections(\n",
    "            initI=initI, initN=initN, days_N=days_N, beta=beta\n",
    "        )\n",
    "        detected_infected = infection_results[\"detected_infected\"]\n",
    "        day14 = int(14 * len(detected_infected) / days_N)\n",
    "        case_count_day14 = int(infection_results[\"detected_infected\"][day14])\n",
    "        case_count_day21 = int(infection_results[\"detected_infected\"][-1])\n",
    "        #     infection_results[\"model\"].figure_infections(\n",
    "        #         plot_percentages=False,\n",
    "        #         plot_D_E=False,\n",
    "        #         title=f\"Plausible Scenario for {district}. Population > {initN / 10**6:.2f} Million\",\n",
    "        #         side_title=\"This model is intended to help make fast decisions, not predict the future.\",\n",
    "        #         plot_E=False,\n",
    "        #         plot_I=False,\n",
    "        #         color_D_I=\"tab:red\",\n",
    "        #     )\n",
    "        #     print(case_count_day14, case_count_day21)\n",
    "        atrisk_day14.append(case_count_day14)\n",
    "        atrisk_day21.append(case_count_day21)\n",
    "    return atrisk_day14, atrisk_day21"
   ]
  },
  {
   "cell_type": "code",
   "execution_count": 19,
   "metadata": {},
   "outputs": [
    {
     "name": "stdout",
     "output_type": "stream",
     "text": [
      "t = 20.90\n",
      "t = 20.90\n",
      "t = 20.90\n",
      "t = 20.90\n",
      "t = 20.90\n",
      "t = 20.90\n",
      "t = 20.90\n",
      "t = 20.90\n",
      "t = 20.90\n",
      "t = 20.90\n",
      "t = 20.90\n",
      "t = 20.90\n",
      "t = 20.90\n",
      "t = 20.90\n",
      "t = 20.90\n",
      "t = 20.90\n",
      "t = 20.90\n",
      "t = 20.90\n",
      "t = 20.90\n",
      "t = 20.90\n",
      "t = 20.90\n",
      "t = 20.90\n",
      "t = 20.90\n",
      "t = 20.90\n",
      "t = 20.90\n",
      "t = 20.90\n",
      "t = 20.90\n",
      "t = 20.90\n",
      "t = 20.90\n",
      "t = 20.90\n",
      "t = 20.90\n",
      "t = 20.90\n",
      "t = 20.90\n",
      "t = 20.90\n",
      "t = 20.90\n",
      "t = 20.90\n",
      "t = 20.90\n",
      "t = 20.90\n",
      "t = 20.90\n",
      "t = 20.90\n",
      "t = 20.90\n",
      "t = 20.90\n",
      "t = 20.90\n",
      "t = 20.90\n",
      "t = 20.90\n",
      "t = 20.90\n",
      "t = 20.90\n",
      "t = 20.90\n",
      "t = 20.90\n",
      "t = 20.90\n",
      "t = 20.90\n",
      "t = 20.90\n",
      "t = 20.90\n",
      "t = 20.90\n",
      "t = 20.90\n",
      "t = 20.90\n",
      "t = 20.90\n",
      "t = 20.90\n",
      "t = 20.90\n",
      "t = 20.90\n",
      "t = 20.90\n",
      "t = 20.90\n",
      "t = 20.90\n",
      "t = 20.90\n",
      "t = 20.90\n",
      "t = 20.90\n",
      "t = 20.90\n",
      "t = 20.90\n",
      "t = 20.90\n",
      "t = 20.90\n",
      "t = 20.90\n",
      "t = 20.90\n",
      "t = 20.90\n",
      "t = 20.90\n",
      "t = 20.90\n",
      "t = 20.90\n",
      "t = 20.90\n",
      "t = 20.90\n",
      "t = 20.90\n",
      "t = 20.90\n",
      "t = 20.90\n"
     ]
    }
   ],
   "source": [
    "scenario =\"best_case\"\n",
    "atrisk_day14, atrisk_day21 = get_risk_estimates(assam_estimated_df, scenario = scenario)\n",
    "assam_estimated_df[f\"day14_{scenario}\"] = atrisk_day14\n",
    "assam_estimated_df[f\"day21_{scenario}\"] = atrisk_day21\n",
    "# -------------------------------------------------\n",
    "scenario =\"realistic\"\n",
    "atrisk_day14, atrisk_day21 = get_risk_estimates(assam_estimated_df, scenario = scenario)\n",
    "assam_estimated_df[f\"day14_{scenario}\"] = atrisk_day14\n",
    "assam_estimated_df[f\"day21_{scenario}\"] = atrisk_day21\n",
    "# -------------------------------------------------\n",
    "scenario =\"worst_case\"\n",
    "atrisk_day14, atrisk_day21 = get_risk_estimates(assam_estimated_df, scenario = scenario)\n",
    "assam_estimated_df[f\"day14_{scenario}\"] = atrisk_day14\n",
    "assam_estimated_df[f\"day21_{scenario}\"] = atrisk_day21"
   ]
  },
  {
   "cell_type": "code",
   "execution_count": 20,
   "metadata": {},
   "outputs": [],
   "source": [
    "assam_estimated_df.to_csv(\"Assam_ActNow.csv\", index=False)"
   ]
  },
  {
   "cell_type": "code",
   "execution_count": 21,
   "metadata": {},
   "outputs": [],
   "source": [
    "# atrisk_day14, atrisk_day21"
   ]
  }
 ],
 "metadata": {
  "kernelspec": {
   "display_name": "Python 3",
   "language": "python",
   "name": "python3"
  },
  "language_info": {
   "codemirror_mode": {
    "name": "ipython",
    "version": 3
   },
   "file_extension": ".py",
   "mimetype": "text/x-python",
   "name": "python",
   "nbconvert_exporter": "python",
   "pygments_lexer": "ipython3",
   "version": "3.8.2"
  }
 },
 "nbformat": 4,
 "nbformat_minor": 2
}
